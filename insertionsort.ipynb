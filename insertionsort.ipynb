{
 "cells": [
  {
   "cell_type": "code",
   "execution_count": 1,
   "metadata": {},
   "outputs": [
    {
     "name": "stdout",
     "output_type": "stream",
     "text": [
      "Array after sorting:\n",
      "[2, 5, 8, 10, 13]\n"
     ]
    }
   ],
   "source": [
    "def InsertionSort(a):\n",
    "  \n",
    "    \n",
    "    for i in range(1, len(a)):\n",
    "  \n",
    "        temp = a[i]\n",
    "  \n",
    "        \n",
    "        j = i-1\n",
    "        while j >=0 and temp < a[j] :\n",
    "                a[j+1] = a[j]\n",
    "                j -= 1\n",
    "        a[j+1] = temp\n",
    "\n",
    "      \n",
    "a = [10, 5, 13, 8, 2]\n",
    "InsertionSort(a)\n",
    "print(\"Array after sorting:\")\n",
    "print(a)\n"
   ]
  },
  {
   "cell_type": "code",
   "execution_count": null,
   "metadata": {},
   "outputs": [],
   "source": []
  }
 ],
 "metadata": {
  "kernelspec": {
   "display_name": "Python 3",
   "language": "python",
   "name": "python3"
  },
  "language_info": {
   "codemirror_mode": {
    "name": "ipython",
    "version": 3
   },
   "file_extension": ".py",
   "mimetype": "text/x-python",
   "name": "python",
   "nbconvert_exporter": "python",
   "pygments_lexer": "ipython3",
   "version": "3.8.5"
  }
 },
 "nbformat": 4,
 "nbformat_minor": 4
}
